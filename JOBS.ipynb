{
  "nbformat": 4,
  "nbformat_minor": 0,
  "metadata": {
    "colab": {
      "name": "Jobs.ipynb",
      "provenance": [],
      "collapsed_sections": [],
      "authorship_tag": "ABX9TyPHyK04FWvgwcKFQY9kUAn7",
      "include_colab_link": true
    },
    "kernelspec": {
      "name": "python3",
      "display_name": "Python 3"
    },
    "language_info": {
      "name": "python"
    }
  },
  "cells": [
    {
      "cell_type": "markdown",
      "metadata": {
        "id": "view-in-github",
        "colab_type": "text"
      },
      "source": [
        "<a href=\"https://colab.research.google.com/github/bukhtiarhaider/CE888/blob/main/JOBS.ipynb\" target=\"_parent\"><img src=\"https://colab.research.google.com/assets/colab-badge.svg\" alt=\"Open In Colab\"/></a>"
      ]
    },
    {
      "cell_type": "code",
      "source": [
        "!pip install econml"
      ],
      "metadata": {
        "colab": {
          "base_uri": "https://localhost:8080/"
        },
        "id": "-veX2ruPhUNi",
        "outputId": "213ea41d-a11d-4e1e-d799-e8a7bb54d28f"
      },
      "execution_count": 175,
      "outputs": [
        {
          "output_type": "stream",
          "name": "stdout",
          "text": [
            "Requirement already satisfied: econml in /usr/local/lib/python3.7/dist-packages (0.13.0)\n",
            "Requirement already satisfied: dowhy<0.7 in /usr/local/lib/python3.7/dist-packages (from econml) (0.6)\n",
            "Requirement already satisfied: sparse in /usr/local/lib/python3.7/dist-packages (from econml) (0.13.0)\n",
            "Requirement already satisfied: lightgbm in /usr/local/lib/python3.7/dist-packages (from econml) (2.2.3)\n",
            "Requirement already satisfied: scipy>1.4.0 in /usr/local/lib/python3.7/dist-packages (from econml) (1.4.1)\n",
            "Requirement already satisfied: scikit-learn>0.22.0 in /usr/local/lib/python3.7/dist-packages (from econml) (1.0.2)\n",
            "Requirement already satisfied: joblib>=0.13.0 in /usr/local/lib/python3.7/dist-packages (from econml) (1.1.0)\n",
            "Requirement already satisfied: statsmodels>=0.10 in /usr/local/lib/python3.7/dist-packages (from econml) (0.10.2)\n",
            "Requirement already satisfied: pandas in /usr/local/lib/python3.7/dist-packages (from econml) (1.3.5)\n",
            "Requirement already satisfied: shap<0.40.0,>=0.38.1 in /usr/local/lib/python3.7/dist-packages (from econml) (0.39.0)\n",
            "Requirement already satisfied: numpy in /usr/local/lib/python3.7/dist-packages (from econml) (1.21.6)\n",
            "Requirement already satisfied: sympy>=1.4 in /usr/local/lib/python3.7/dist-packages (from dowhy<0.7->econml) (1.7.1)\n",
            "Requirement already satisfied: pydot>=1.4 in /usr/local/lib/python3.7/dist-packages (from dowhy<0.7->econml) (1.4.2)\n",
            "Requirement already satisfied: networkx>=2.0 in /usr/local/lib/python3.7/dist-packages (from dowhy<0.7->econml) (2.6.3)\n",
            "Requirement already satisfied: pytz>=2017.3 in /usr/local/lib/python3.7/dist-packages (from pandas->econml) (2022.1)\n",
            "Requirement already satisfied: python-dateutil>=2.7.3 in /usr/local/lib/python3.7/dist-packages (from pandas->econml) (2.8.2)\n",
            "Requirement already satisfied: pyparsing>=2.1.4 in /usr/local/lib/python3.7/dist-packages (from pydot>=1.4->dowhy<0.7->econml) (3.0.8)\n",
            "Requirement already satisfied: six>=1.5 in /usr/local/lib/python3.7/dist-packages (from python-dateutil>=2.7.3->pandas->econml) (1.15.0)\n",
            "Requirement already satisfied: threadpoolctl>=2.0.0 in /usr/local/lib/python3.7/dist-packages (from scikit-learn>0.22.0->econml) (3.1.0)\n",
            "Requirement already satisfied: numba in /usr/local/lib/python3.7/dist-packages (from shap<0.40.0,>=0.38.1->econml) (0.51.2)\n",
            "Requirement already satisfied: cloudpickle in /usr/local/lib/python3.7/dist-packages (from shap<0.40.0,>=0.38.1->econml) (1.3.0)\n",
            "Requirement already satisfied: tqdm>4.25.0 in /usr/local/lib/python3.7/dist-packages (from shap<0.40.0,>=0.38.1->econml) (4.64.0)\n",
            "Requirement already satisfied: slicer==0.0.7 in /usr/local/lib/python3.7/dist-packages (from shap<0.40.0,>=0.38.1->econml) (0.0.7)\n",
            "Requirement already satisfied: patsy>=0.4.0 in /usr/local/lib/python3.7/dist-packages (from statsmodels>=0.10->econml) (0.5.2)\n",
            "Requirement already satisfied: mpmath>=0.19 in /usr/local/lib/python3.7/dist-packages (from sympy>=1.4->dowhy<0.7->econml) (1.2.1)\n",
            "Requirement already satisfied: llvmlite<0.35,>=0.34.0.dev0 in /usr/local/lib/python3.7/dist-packages (from numba->shap<0.40.0,>=0.38.1->econml) (0.34.0)\n",
            "Requirement already satisfied: setuptools in /usr/local/lib/python3.7/dist-packages (from numba->shap<0.40.0,>=0.38.1->econml) (57.4.0)\n"
          ]
        }
      ]
    },
    {
      "cell_type": "code",
      "source": [
        "!pip install xgboost"
      ],
      "metadata": {
        "colab": {
          "base_uri": "https://localhost:8080/"
        },
        "id": "x26GfqQV-6xN",
        "outputId": "e5f3686d-c3ee-43b8-febe-26e00f8a9e9b"
      },
      "execution_count": 176,
      "outputs": [
        {
          "output_type": "stream",
          "name": "stdout",
          "text": [
            "Requirement already satisfied: xgboost in /usr/local/lib/python3.7/dist-packages (0.90)\n",
            "Requirement already satisfied: numpy in /usr/local/lib/python3.7/dist-packages (from xgboost) (1.21.6)\n",
            "Requirement already satisfied: scipy in /usr/local/lib/python3.7/dist-packages (from xgboost) (1.4.1)\n"
          ]
        }
      ]
    },
    {
      "cell_type": "code",
      "execution_count": 177,
      "metadata": {
        "id": "f9ojhls7zZtn"
      },
      "outputs": [],
      "source": [
        "%matplotlib inline\n",
        "from xgboost import XGBRegressor, XGBClassifier\n",
        "from econml.metalearners import XLearner\n",
        "from econml.dr import  DRLearner\n",
        "from sklearn.ensemble import RandomForestRegressor, RandomForestClassifier, GradientBoostingRegressor, GradientBoostingClassifier\n",
        "from sklearn.model_selection import train_test_split, StratifiedKFold\n",
        "from sklearn.preprocessing import LabelEncoder, StandardScaler, OneHotEncoder\n",
        "from sklearn.compose import ColumnTransformer\n",
        "from sklearn.base import BaseEstimator, TransformerMixin\n",
        "from sklearn.pipeline import Pipeline\n",
        "from sklearn.feature_selection import RFE\n",
        "from sklearn.linear_model import LogisticRegression, LassoCV\n",
        "from sklearn.naive_bayes import GaussianNB\n",
        "from sklearn.metrics import f1_score, accuracy_score\n",
        "from imblearn.over_sampling import SMOTE\n",
        "from collections import Counter\n",
        "import numpy as np\n",
        "import pandas as pd\n",
        "import scipy.stats as st\n",
        "import matplotlib.pyplot as plt\n",
        "from google.colab import files\n",
        "import warnings\n",
        "warnings.filterwarnings(action='ignore')"
      ]
    },
    {
      "cell_type": "code",
      "source": [
        "# Load the data\n",
        "dfraw = pd.read_csv('https://raw.githubusercontent.com/dmachlanski/CE888_2022/main/project/data/jobs.csv')\n",
        "dfraw.head() # Just taking a quick look at the data"
      ],
      "metadata": {
        "colab": {
          "base_uri": "https://localhost:8080/",
          "height": 206
        },
        "id": "TKLM6Q4UzyRd",
        "outputId": "cf655470-ad14-4212-81dc-0f56f3b6788f"
      },
      "execution_count": 178,
      "outputs": [
        {
          "output_type": "execute_result",
          "data": {
            "text/plain": [
              "         x1        x2   x3   x4   x5   x6        x7        x8        x9  \\\n",
              "0 -0.614282  1.464727  0.0  0.0  1.0  0.0  2.393250  2.746196 -0.653311   \n",
              "1 -0.802463  0.101835  0.0  0.0  1.0  0.0  0.109885  0.498271 -0.785284   \n",
              "2 -0.896553 -0.238888  1.0  0.0  1.0  1.0 -0.085212 -0.148097 -0.847312   \n",
              "3 -0.896553 -0.238888  0.0  0.0  0.0  1.0  0.405581  0.325594 -0.847312   \n",
              "4  0.138440 -1.601779  1.0  0.0  1.0  1.0 -0.722531 -0.212734 -0.019840   \n",
              "\n",
              "        x10       x11       x12       x13  x14  x15       x16  x17    t    y  \\\n",
              "0 -0.656913  1.627531  2.462337  2.937244  0.0  0.0  2.843909  0.0  0.0  1.0   \n",
              "1 -0.743407 -0.022502 -0.177193  0.082537  0.0  0.0  0.038422  0.0  0.0  1.0   \n",
              "2 -0.781606 -0.361348 -0.286221 -0.303615  0.0  0.0 -0.191304  0.0  0.0  1.0   \n",
              "3 -0.781606 -0.361348  0.023020 -0.039630  0.0  0.0  0.173108  0.0  0.0  1.0   \n",
              "4 -0.156019 -1.422084 -0.514563 -0.331552  0.0  0.0 -0.779227  0.0  0.0  1.0   \n",
              "\n",
              "     e  \n",
              "0  0.0  \n",
              "1  0.0  \n",
              "2  0.0  \n",
              "3  1.0  \n",
              "4  0.0  "
            ],
            "text/html": [
              "\n",
              "  <div id=\"df-afbf6bc4-0737-4a14-85fc-891b7b07dab3\">\n",
              "    <div class=\"colab-df-container\">\n",
              "      <div>\n",
              "<style scoped>\n",
              "    .dataframe tbody tr th:only-of-type {\n",
              "        vertical-align: middle;\n",
              "    }\n",
              "\n",
              "    .dataframe tbody tr th {\n",
              "        vertical-align: top;\n",
              "    }\n",
              "\n",
              "    .dataframe thead th {\n",
              "        text-align: right;\n",
              "    }\n",
              "</style>\n",
              "<table border=\"1\" class=\"dataframe\">\n",
              "  <thead>\n",
              "    <tr style=\"text-align: right;\">\n",
              "      <th></th>\n",
              "      <th>x1</th>\n",
              "      <th>x2</th>\n",
              "      <th>x3</th>\n",
              "      <th>x4</th>\n",
              "      <th>x5</th>\n",
              "      <th>x6</th>\n",
              "      <th>x7</th>\n",
              "      <th>x8</th>\n",
              "      <th>x9</th>\n",
              "      <th>x10</th>\n",
              "      <th>x11</th>\n",
              "      <th>x12</th>\n",
              "      <th>x13</th>\n",
              "      <th>x14</th>\n",
              "      <th>x15</th>\n",
              "      <th>x16</th>\n",
              "      <th>x17</th>\n",
              "      <th>t</th>\n",
              "      <th>y</th>\n",
              "      <th>e</th>\n",
              "    </tr>\n",
              "  </thead>\n",
              "  <tbody>\n",
              "    <tr>\n",
              "      <th>0</th>\n",
              "      <td>-0.614282</td>\n",
              "      <td>1.464727</td>\n",
              "      <td>0.0</td>\n",
              "      <td>0.0</td>\n",
              "      <td>1.0</td>\n",
              "      <td>0.0</td>\n",
              "      <td>2.393250</td>\n",
              "      <td>2.746196</td>\n",
              "      <td>-0.653311</td>\n",
              "      <td>-0.656913</td>\n",
              "      <td>1.627531</td>\n",
              "      <td>2.462337</td>\n",
              "      <td>2.937244</td>\n",
              "      <td>0.0</td>\n",
              "      <td>0.0</td>\n",
              "      <td>2.843909</td>\n",
              "      <td>0.0</td>\n",
              "      <td>0.0</td>\n",
              "      <td>1.0</td>\n",
              "      <td>0.0</td>\n",
              "    </tr>\n",
              "    <tr>\n",
              "      <th>1</th>\n",
              "      <td>-0.802463</td>\n",
              "      <td>0.101835</td>\n",
              "      <td>0.0</td>\n",
              "      <td>0.0</td>\n",
              "      <td>1.0</td>\n",
              "      <td>0.0</td>\n",
              "      <td>0.109885</td>\n",
              "      <td>0.498271</td>\n",
              "      <td>-0.785284</td>\n",
              "      <td>-0.743407</td>\n",
              "      <td>-0.022502</td>\n",
              "      <td>-0.177193</td>\n",
              "      <td>0.082537</td>\n",
              "      <td>0.0</td>\n",
              "      <td>0.0</td>\n",
              "      <td>0.038422</td>\n",
              "      <td>0.0</td>\n",
              "      <td>0.0</td>\n",
              "      <td>1.0</td>\n",
              "      <td>0.0</td>\n",
              "    </tr>\n",
              "    <tr>\n",
              "      <th>2</th>\n",
              "      <td>-0.896553</td>\n",
              "      <td>-0.238888</td>\n",
              "      <td>1.0</td>\n",
              "      <td>0.0</td>\n",
              "      <td>1.0</td>\n",
              "      <td>1.0</td>\n",
              "      <td>-0.085212</td>\n",
              "      <td>-0.148097</td>\n",
              "      <td>-0.847312</td>\n",
              "      <td>-0.781606</td>\n",
              "      <td>-0.361348</td>\n",
              "      <td>-0.286221</td>\n",
              "      <td>-0.303615</td>\n",
              "      <td>0.0</td>\n",
              "      <td>0.0</td>\n",
              "      <td>-0.191304</td>\n",
              "      <td>0.0</td>\n",
              "      <td>0.0</td>\n",
              "      <td>1.0</td>\n",
              "      <td>0.0</td>\n",
              "    </tr>\n",
              "    <tr>\n",
              "      <th>3</th>\n",
              "      <td>-0.896553</td>\n",
              "      <td>-0.238888</td>\n",
              "      <td>0.0</td>\n",
              "      <td>0.0</td>\n",
              "      <td>0.0</td>\n",
              "      <td>1.0</td>\n",
              "      <td>0.405581</td>\n",
              "      <td>0.325594</td>\n",
              "      <td>-0.847312</td>\n",
              "      <td>-0.781606</td>\n",
              "      <td>-0.361348</td>\n",
              "      <td>0.023020</td>\n",
              "      <td>-0.039630</td>\n",
              "      <td>0.0</td>\n",
              "      <td>0.0</td>\n",
              "      <td>0.173108</td>\n",
              "      <td>0.0</td>\n",
              "      <td>0.0</td>\n",
              "      <td>1.0</td>\n",
              "      <td>1.0</td>\n",
              "    </tr>\n",
              "    <tr>\n",
              "      <th>4</th>\n",
              "      <td>0.138440</td>\n",
              "      <td>-1.601779</td>\n",
              "      <td>1.0</td>\n",
              "      <td>0.0</td>\n",
              "      <td>1.0</td>\n",
              "      <td>1.0</td>\n",
              "      <td>-0.722531</td>\n",
              "      <td>-0.212734</td>\n",
              "      <td>-0.019840</td>\n",
              "      <td>-0.156019</td>\n",
              "      <td>-1.422084</td>\n",
              "      <td>-0.514563</td>\n",
              "      <td>-0.331552</td>\n",
              "      <td>0.0</td>\n",
              "      <td>0.0</td>\n",
              "      <td>-0.779227</td>\n",
              "      <td>0.0</td>\n",
              "      <td>0.0</td>\n",
              "      <td>1.0</td>\n",
              "      <td>0.0</td>\n",
              "    </tr>\n",
              "  </tbody>\n",
              "</table>\n",
              "</div>\n",
              "      <button class=\"colab-df-convert\" onclick=\"convertToInteractive('df-afbf6bc4-0737-4a14-85fc-891b7b07dab3')\"\n",
              "              title=\"Convert this dataframe to an interactive table.\"\n",
              "              style=\"display:none;\">\n",
              "        \n",
              "  <svg xmlns=\"http://www.w3.org/2000/svg\" height=\"24px\"viewBox=\"0 0 24 24\"\n",
              "       width=\"24px\">\n",
              "    <path d=\"M0 0h24v24H0V0z\" fill=\"none\"/>\n",
              "    <path d=\"M18.56 5.44l.94 2.06.94-2.06 2.06-.94-2.06-.94-.94-2.06-.94 2.06-2.06.94zm-11 1L8.5 8.5l.94-2.06 2.06-.94-2.06-.94L8.5 2.5l-.94 2.06-2.06.94zm10 10l.94 2.06.94-2.06 2.06-.94-2.06-.94-.94-2.06-.94 2.06-2.06.94z\"/><path d=\"M17.41 7.96l-1.37-1.37c-.4-.4-.92-.59-1.43-.59-.52 0-1.04.2-1.43.59L10.3 9.45l-7.72 7.72c-.78.78-.78 2.05 0 2.83L4 21.41c.39.39.9.59 1.41.59.51 0 1.02-.2 1.41-.59l7.78-7.78 2.81-2.81c.8-.78.8-2.07 0-2.86zM5.41 20L4 18.59l7.72-7.72 1.47 1.35L5.41 20z\"/>\n",
              "  </svg>\n",
              "      </button>\n",
              "      \n",
              "  <style>\n",
              "    .colab-df-container {\n",
              "      display:flex;\n",
              "      flex-wrap:wrap;\n",
              "      gap: 12px;\n",
              "    }\n",
              "\n",
              "    .colab-df-convert {\n",
              "      background-color: #E8F0FE;\n",
              "      border: none;\n",
              "      border-radius: 50%;\n",
              "      cursor: pointer;\n",
              "      display: none;\n",
              "      fill: #1967D2;\n",
              "      height: 32px;\n",
              "      padding: 0 0 0 0;\n",
              "      width: 32px;\n",
              "    }\n",
              "\n",
              "    .colab-df-convert:hover {\n",
              "      background-color: #E2EBFA;\n",
              "      box-shadow: 0px 1px 2px rgba(60, 64, 67, 0.3), 0px 1px 3px 1px rgba(60, 64, 67, 0.15);\n",
              "      fill: #174EA6;\n",
              "    }\n",
              "\n",
              "    [theme=dark] .colab-df-convert {\n",
              "      background-color: #3B4455;\n",
              "      fill: #D2E3FC;\n",
              "    }\n",
              "\n",
              "    [theme=dark] .colab-df-convert:hover {\n",
              "      background-color: #434B5C;\n",
              "      box-shadow: 0px 1px 3px 1px rgba(0, 0, 0, 0.15);\n",
              "      filter: drop-shadow(0px 1px 2px rgba(0, 0, 0, 0.3));\n",
              "      fill: #FFFFFF;\n",
              "    }\n",
              "  </style>\n",
              "\n",
              "      <script>\n",
              "        const buttonEl =\n",
              "          document.querySelector('#df-afbf6bc4-0737-4a14-85fc-891b7b07dab3 button.colab-df-convert');\n",
              "        buttonEl.style.display =\n",
              "          google.colab.kernel.accessAllowed ? 'block' : 'none';\n",
              "\n",
              "        async function convertToInteractive(key) {\n",
              "          const element = document.querySelector('#df-afbf6bc4-0737-4a14-85fc-891b7b07dab3');\n",
              "          const dataTable =\n",
              "            await google.colab.kernel.invokeFunction('convertToInteractive',\n",
              "                                                     [key], {});\n",
              "          if (!dataTable) return;\n",
              "\n",
              "          const docLinkHtml = 'Like what you see? Visit the ' +\n",
              "            '<a target=\"_blank\" href=https://colab.research.google.com/notebooks/data_table.ipynb>data table notebook</a>'\n",
              "            + ' to learn more about interactive tables.';\n",
              "          element.innerHTML = '';\n",
              "          dataTable['output_type'] = 'display_data';\n",
              "          await google.colab.output.renderOutput(dataTable, element);\n",
              "          const docLink = document.createElement('div');\n",
              "          docLink.innerHTML = docLinkHtml;\n",
              "          element.appendChild(docLink);\n",
              "        }\n",
              "      </script>\n",
              "    </div>\n",
              "  </div>\n",
              "  "
            ]
          },
          "metadata": {},
          "execution_count": 178
        }
      ]
    },
    {
      "cell_type": "markdown",
      "source": [
        "# **DATA CLEANING**\n"
      ],
      "metadata": {
        "id": "bE6jA5iD0TXl"
      }
    },
    {
      "cell_type": "markdown",
      "source": [
        "Categorical Encoding"
      ],
      "metadata": {
        "id": "JMA8TribQUAZ"
      }
    },
    {
      "cell_type": "code",
      "source": [
        "class OneHotEncoderCategoricalFeatures(BaseEstimator, TransformerMixin):\n",
        "    def __init__(self, cat_features):\n",
        "        self.cat_features = cat_features\n",
        "    \n",
        "    def fit(self, X, y=None):\n",
        "        return self\n",
        "    \n",
        "    def transform(self, X):\n",
        "        return pd.get_dummies(X, columns=self.cat_features)"
      ],
      "metadata": {
        "id": "iss5rETGNcqT"
      },
      "execution_count": 179,
      "outputs": []
    },
    {
      "cell_type": "code",
      "source": [
        "le = LabelEncoder()\n",
        "dfraw['y'] = le.fit_transform(dfraw['y'])\n",
        "\n",
        "dfraw['e'] = le.fit_transform(dfraw['e'])"
      ],
      "metadata": {
        "id": "bZtFiI8f54vZ"
      },
      "execution_count": 180,
      "outputs": []
    },
    {
      "cell_type": "markdown",
      "source": [
        "Train/Test Split"
      ],
      "metadata": {
        "id": "369r208rguVz"
      }
    },
    {
      "cell_type": "code",
      "source": [
        "df_train, df_test = train_test_split(dfraw, test_size=0.2, stratify=dfraw['t'], random_state = 10)"
      ],
      "metadata": {
        "id": "_qkxGzZOhDHF"
      },
      "execution_count": 181,
      "outputs": []
    },
    {
      "cell_type": "markdown",
      "source": [
        "Over Sampling\n"
      ],
      "metadata": {
        "id": "pThPxazZlvVV"
      }
    },
    {
      "cell_type": "code",
      "source": [
        "smote_oversample = SMOTE()\n",
        "t = df_train['t']\n",
        "print(Counter(t))\n",
        "df_train = df_train.drop('t', axis = 1)\n",
        "df_train, t = smote_oversample.fit_resample(df_train, t)\n",
        "print(Counter(t))"
      ],
      "metadata": {
        "colab": {
          "base_uri": "https://localhost:8080/"
        },
        "id": "Vgp4DALclyAs",
        "outputId": "b35939f3-9e4e-4a9a-bf5f-14c2c708507c"
      },
      "execution_count": 182,
      "outputs": [
        {
          "output_type": "stream",
          "name": "stdout",
          "text": [
            "Counter({0.0: 2331, 1.0: 238})\n",
            "Counter({1.0: 2331, 0.0: 2331})\n"
          ]
        }
      ]
    },
    {
      "cell_type": "code",
      "source": [
        "df_train['t'] = t\n",
        "df_train['t'].hist(bins=10)"
      ],
      "metadata": {
        "colab": {
          "base_uri": "https://localhost:8080/",
          "height": 282
        },
        "id": "udREVm62yvGu",
        "outputId": "abc92d3b-e8ee-4865-8eda-abc4db602e9f"
      },
      "execution_count": 183,
      "outputs": [
        {
          "output_type": "execute_result",
          "data": {
            "text/plain": [
              "<matplotlib.axes._subplots.AxesSubplot at 0x7fc239a26ad0>"
            ]
          },
          "metadata": {},
          "execution_count": 183
        },
        {
          "output_type": "display_data",
          "data": {
            "text/plain": [
              "<Figure size 432x288 with 1 Axes>"
            ],
            "image/png": "[encoded data removed]"
          },
          "metadata": {
            "needs_background": "light"
          }
        }
      ]
    },
    {
      "cell_type": "code",
      "source": [
        "y_train = df_train['y']\n",
        "e_train = df_train['e']\n",
        "t_train = df_train['t']\n",
        "x_train = df_train.drop(['t', 'y', 'e'], axis = 1)\n",
        "\n",
        "y_test = df_test['y']\n",
        "e_test = df_test['e']\n",
        "t_test = df_test['t']\n",
        "x_test = df_test.drop(['t', 'y', 'e'], axis = 1)"
      ],
      "metadata": {
        "id": "8s09waQc08e2"
      },
      "execution_count": 184,
      "outputs": []
    },
    {
      "cell_type": "code",
      "source": [
        "#print((len(ite_train)*np.mean(ite_train) + len(ite_test)*np.mean(ite_test))/(len(ite_train)+len(ite_test)))\n",
        "#print(np.mean(dfraw['ite']))\n",
        "#print(np.mean(ite_test))"
      ],
      "metadata": {
        "id": "nfNS2MOk4Tzb"
      },
      "execution_count": 185,
      "outputs": []
    },
    {
      "cell_type": "markdown",
      "source": [
        "**Feature** **Selection**"
      ],
      "metadata": {
        "id": "vJ4EAlT5Qp68"
      }
    },
    {
      "cell_type": "code",
      "source": [
        "model = RandomForestRegressor()\n",
        "rfe = RFE(model, n_features_to_select = 15)\n",
        "fit = rfe.fit(pd.concat((pd.concat((x_train, x_test), axis = 0), pd.concat((t_train, t_test), axis = 0)), axis = 1), pd.concat((y_train, y_test), axis = 0))\n",
        "print(\"Num Features: %s\" % (fit.n_features_))\n",
        "print(\"Selected Features: %s\" % (fit.support_))\n",
        "print(\"Feature Ranking: %s\" % (fit.ranking_))\n"
      ],
      "metadata": {
        "colab": {
          "base_uri": "https://localhost:8080/"
        },
        "id": "VjNzuVWoQsGw",
        "outputId": "af4627a5-7904-4b43-ca0a-6172e123e97d"
      },
      "execution_count": 186,
      "outputs": [
        {
          "output_type": "stream",
          "name": "stdout",
          "text": [
            "Num Features: 15\n",
            "Selected Features: [ True  True  True  True  True  True  True  True  True  True  True  True\n",
            "  True False False  True False  True]\n",
            "Feature Ranking: [1 1 1 1 1 1 1 1 1 1 1 1 1 2 3 1 4 1]\n"
          ]
        }
      ]
    },
    {
      "cell_type": "code",
      "source": [
        "features = []\n",
        "for i in range (len(fit.support_)):\n",
        "  if(fit.ranking_[i]==1):\n",
        "    #Retrieve selected column names\n",
        "    col = pd.concat((x_train, t_train), axis = 1).columns[i]\n",
        "    if(col!='t'):\n",
        "      features.append(col)\n",
        "print(\"Selected Features: \", features)\n"
      ],
      "metadata": {
        "colab": {
          "base_uri": "https://localhost:8080/"
        },
        "id": "25fF4kSsR_E1",
        "outputId": "149bdb70-eaac-482c-9819-635c4824015c"
      },
      "execution_count": 187,
      "outputs": [
        {
          "output_type": "stream",
          "name": "stdout",
          "text": [
            "Selected Features:  ['x1', 'x2', 'x3', 'x4', 'x5', 'x6', 'x7', 'x8', 'x9', 'x10', 'x11', 'x12', 'x13', 'x16']\n"
          ]
        }
      ]
    },
    {
      "cell_type": "code",
      "source": [
        "x_train = x_train[features]\n",
        "x_test = x_test[features]\n",
        "y_train = y_train.values.reshape(-1, 1)\n",
        "y_test = y_test.values.reshape(-1, 1)\n",
        "t_train = t_train.values.reshape(-1, 1)\n",
        "t_test = t_test.values.reshape(-1, 1)"
      ],
      "metadata": {
        "id": "gnk3V_vkVGjU"
      },
      "execution_count": 188,
      "outputs": []
    },
    {
      "cell_type": "markdown",
      "source": [
        "**Train/Test Split**"
      ],
      "metadata": {
        "id": "BG5WBOLbeprj"
      }
    },
    {
      "cell_type": "code",
      "source": [
        "#x_train, x_test, t_train, t_test, y_train, y_test, ycf_train, ycf_test, ite_train, ite_test = train_test_split(x, t, y, ycf, ite, test_size=0.2, stratify=t, random_state = 0)\n",
        "folds = 10\n",
        "scaler_x = StandardScaler()\n",
        "x_train = scaler_x.fit_transform(x_train)\n",
        "x_test = scaler_x.transform(x_test)"
      ],
      "metadata": {
        "id": "GL72nq5w6YKo"
      },
      "execution_count": 189,
      "outputs": []
    },
    {
      "cell_type": "code",
      "source": [
        "#print(e_train.shape)\n",
        "#print(type(e_train))\n",
        "#print(y_train[1 - t_train + e_train.values.flatten()] > 1)"
      ],
      "metadata": {
        "id": "0sq7gkOgJ8D5"
      },
      "execution_count": 190,
      "outputs": []
    },
    {
      "cell_type": "code",
      "source": [
        "def abs_att(effect_pred, yf, t, e):\n",
        "  \n",
        "    att_true = np.mean(yf[t > 0]) - np.mean(yf[(1 - t + e) > 1])\n",
        "    att_pred = np.mean(effect_pred[(t + e) > 1])\n",
        "\n",
        "    return np.abs(att_pred - att_true)"
      ],
      "metadata": {
        "id": "0BKoOFhMvAD7"
      },
      "execution_count": 191,
      "outputs": []
    },
    {
      "cell_type": "code",
      "source": [
        "def policy_risk(effect_pred, yf, t, e):\n",
        "    \"\"\"\n",
        "    Computes the risk of the policy defined by predicted effect\n",
        "    :param effect_pred: predicted treatment effect value\n",
        "    :param yf: factual (observed) outcome\n",
        "    :param t: treatment status (treated/control)\n",
        "    :param e: whether belongs to the experimental group\n",
        "    :return: policy risk\n",
        "    \"\"\"\n",
        "    # Consider only the cases for which we have experimental data (i.e., e > 0)\n",
        "    t_e = t[e > 0]\n",
        "    yf_e = yf[e > 0]\n",
        "    effect_pred_e = effect_pred[e > 0]\n",
        "\n",
        "    if np.any(np.isnan(effect_pred_e)):\n",
        "        return np.nan\n",
        "\n",
        "    policy = effect_pred_e > 0.0\n",
        "    treat_overlap = (policy == t_e) * (t_e > 0)\n",
        "    control_overlap = (policy == t_e) * (t_e < 1)\n",
        "\n",
        "    if np.sum(treat_overlap) == 0:\n",
        "        treat_value = 0\n",
        "    else:\n",
        "        treat_value = np.mean(yf_e[treat_overlap])\n",
        "\n",
        "    if np.sum(control_overlap) == 0:\n",
        "        control_value = 0\n",
        "    else:\n",
        "        control_value = np.mean(yf_e[control_overlap])\n",
        "\n",
        "    pit = np.mean(policy)\n",
        "    policy_value = pit * treat_value + (1.0 - pit) * control_value\n",
        "\n",
        "    return 1.0 - policy_value"
      ],
      "metadata": {
        "id": "J53l6RjTe_ri"
      },
      "execution_count": 192,
      "outputs": []
    },
    {
      "cell_type": "code",
      "source": [
        "print(y_test.shape)"
      ],
      "metadata": {
        "colab": {
          "base_uri": "https://localhost:8080/"
        },
        "id": "DsnN_5n1WhZM",
        "outputId": "bd260166-285c-40d1-9f8e-004f331b7106"
      },
      "execution_count": 193,
      "outputs": [
        {
          "output_type": "stream",
          "name": "stdout",
          "text": [
            "(643, 1)\n"
          ]
        }
      ]
    },
    {
      "cell_type": "code",
      "source": [
        "#unique, counts = np.unique(y_train[t_train == 0], return_counts=True)\n",
        "#dict(zip(unique, counts))\n",
        "y_train[(1 - t_train.flatten() + e_train) == 0]"
      ],
      "metadata": {
        "colab": {
          "base_uri": "https://localhost:8080/"
        },
        "id": "CbKMcDUXxnDX",
        "outputId": "fa3ec52c-c7e4-40da-f8f7-2474eca2782c"
      },
      "execution_count": 194,
      "outputs": [
        {
          "output_type": "execute_result",
          "data": {
            "text/plain": [
              "array([], shape=(0, 1), dtype=int64)"
            ]
          },
          "metadata": {},
          "execution_count": 194
        }
      ]
    },
    {
      "cell_type": "markdown",
      "source": [
        "**SIMPLE REGRESSION**\n"
      ],
      "metadata": {
        "id": "t5jd7uI6fCqn"
      }
    },
    {
      "cell_type": "code",
      "source": [
        "scores_sl = []\n",
        "\n",
        "xt_train = np.concatenate((x_train, t_train), axis = 1)\n",
        "ytrainflat = y_train.flatten()\n",
        "ttrainflat = t_train.flatten()\n",
        "ttestflat = t_test.flatten()\n",
        "skf = StratifiedKFold(n_splits=10)\n",
        "skf.get_n_splits(xt_train, ytrainflat)\n",
        "\n",
        "for train_index, test_index in skf.split(xt_train, t_train):\n",
        "  gbr = GradientBoostingClassifier(n_estimators = 100, subsample=1, min_samples_split=15, min_samples_leaf=15, random_state=10)\n",
        "  #gbr = GaussianNB()\n",
        "  #gbr = RandomForestRegressor(n_estimators = 1000, min_samples_split=15, min_samples_leaf=15)\n",
        "  #gbr = XGBRegressor(max_depth = 6)\n",
        "  xttrain, xttest = xt_train[train_index], xt_train[test_index]\n",
        "  ytrain, ytest = ytrainflat[train_index], ytrainflat[test_index]\n",
        "  xtrain, xtest = x_train[train_index], x_train[test_index]\n",
        "  ttrain, ttest = t_train[train_index], t_train[test_index]\n",
        "  etrain, etest = e_train[train_index], e_train[test_index]\n",
        "\n",
        "\n",
        "  gbr.fit(xttrain, ytrain)\n",
        "\n",
        "\n",
        "  rf_test = gbr.predict(xttest)\n",
        "\n",
        "  xt0_test = np.concatenate((xtest, np.zeros_like(ttest)), axis = 1)\n",
        "  xt1_test = np.concatenate((xtest, np.ones_like(ttest)), axis = 1)\n",
        "  y_t0 = gbr.predict(xt0_test)\n",
        "  y_t1 = gbr.predict(xt1_test)\n",
        "  avg_pred_eff = y_t1 - y_t0\n",
        "\n",
        "  #print(f1_score(ytest, rf_test))\n",
        "  err_att_score= abs_att(avg_pred_eff, ytest, ttest.flatten(), etest)\n",
        "  print(err_att_score)\n",
        "\n",
        "  scores_sl.append(err_att_score)\n",
        "\n",
        "print(\"CrossVal Score: \", np.mean(scores_sl))\n",
        "\n",
        "gbr = GradientBoostingClassifier(n_estimators = 100, subsample=1, min_samples_split=15, min_samples_leaf=15, random_state=10)\n",
        "#gbr = RandomForestRegressor(n_estimators = 400, min_samples_split=15, min_samples_leaf=15)\n",
        "#gbr = XGBRegressor(max_depth = 6)\n",
        "\n",
        "gbr.fit(xt_train, ytrainflat)\n",
        "\n",
        "xt0_test = np.concatenate((x_test, np.zeros_like(t_test)), axis = 1)\n",
        "xt1_test = np.concatenate((x_test, np.ones_like(t_test)), axis = 1)\n",
        "y_t0 = gbr.predict(xt0_test)\n",
        "y_t1 = gbr.predict(xt1_test)\n",
        "avg_pred_eff_sl = y_t1 - y_t0\n",
        "\n",
        "#print(f1_score(y_test, rf_te_test))\n",
        "score_sl = abs_att(avg_pred_eff_sl, y_test, ttestflat, e_test)\n",
        "\n",
        "print(\"Testing Score:\", score_sl)"
      ],
      "metadata": {
        "colab": {
          "base_uri": "https://localhost:8080/"
        },
        "id": "4ieNdGCl6kuo",
        "outputId": "5f2fd7ee-e3a8-4e53-97dd-b2822bcab666"
      },
      "execution_count": 195,
      "outputs": [
        {
          "output_type": "stream",
          "name": "stdout",
          "text": [
            "0.016632016632016633\n",
            "0.07793087869889316\n",
            "0.06118631011334874\n",
            "0.024946351931330525\n",
            "0.017569742489270346\n",
            "0.0486409155937053\n",
            "0.08191293684855915\n",
            "0.09954312612487883\n",
            "0.033500238435860724\n",
            "0.09594351377543964\n",
            "CrossVal Score:  0.0557806030643303\n",
            "Testing Score: 0.036610169491525374\n"
          ]
        }
      ]
    },
    {
      "cell_type": "markdown",
      "source": [
        "**IPW Regression**\n"
      ],
      "metadata": {
        "id": "LIQW1o-ufgnU"
      }
    },
    {
      "cell_type": "code",
      "source": [
        "def get_ps_weights(clf, x, t):\n",
        "  ti = np.squeeze(t)\n",
        "  clf.fit(x, ti)\n",
        "  ptx = clf.predict_proba(x).T[1].T + 0.0001 # add a small value to avoid dividing by 0\n",
        "  # Given ti and ptx values, compute the weights wi (see formula above):\n",
        "  wi = ti/ptx + (1-ti)/(1-ptx)\n",
        "  return wi"
      ],
      "metadata": {
        "id": "WW699Yu0fe0x"
      },
      "execution_count": 196,
      "outputs": []
    },
    {
      "cell_type": "code",
      "source": [
        "scores_tl = []\n",
        "\n",
        "subsamp = 1\n",
        "estimators = 200\n",
        "\n",
        "for train_index, test_index in skf.split(xt_train, t_train):\n",
        "  prop_gbr = GradientBoostingClassifier(n_estimators=estimators, min_samples_split=15, min_samples_leaf=15, subsample=subsamp, random_state=1)\n",
        "  xtrain, xtest = x_train[train_index], x_train[test_index]\n",
        "  ttrain, ttest = t_train[train_index], t_train[test_index]\n",
        "  xttrain, xttest = xt_train[train_index], xt_train[test_index]\n",
        "  ytrain, ytest = ytrainflat[train_index], ytrainflat[test_index]\n",
        "  etrain, etest = e_train[train_index], e_train[test_index]\n",
        "\n",
        "  weights = get_ps_weights(prop_gbr, xtrain, ttrain)\n",
        "\n",
        "  gbr_ipsw = GradientBoostingClassifier(n_estimators=estimators, min_samples_split=15, min_samples_leaf=15, subsample=subsamp, random_state=1)\n",
        "\n",
        "  gbr_ipsw.fit(xttrain, ytrain, sample_weight=weights)\n",
        "\n",
        "  xt0_test = np.concatenate((xtest, np.zeros_like(ttest)), axis = 1)\n",
        "  xt1_test = np.concatenate((xtest, np.ones_like(ttest)), axis = 1)\n",
        "  y_t0 = gbr.predict(xt0_test)\n",
        "  y_t1 = gbr.predict(xt1_test)\n",
        "  avg_pred_eff = y_t1 - y_t0\n",
        "\n",
        "  score = abs_att(avg_pred_eff, ytest, ttest.flatten(), etest)\n",
        "  print(score)\n",
        "\n",
        "  scores_tl.append(score)\n",
        "\n",
        "\n",
        "print(\"CrossVal Score:\", np.mean(scores_tl))\n",
        "prop_clf = GradientBoostingClassifier(n_estimators=estimators, min_samples_split=15, min_samples_leaf=15, subsample=subsamp, random_state=1)\n",
        "weights = get_ps_weights(prop_clf, x_train, t_train)\n",
        "\n",
        "rf_ipsw = GradientBoostingClassifier(n_estimators=estimators, min_samples_split=15, min_samples_leaf=15, subsample=subsamp, random_state=1)\n",
        "\n",
        "rf_ipsw.fit(xt_train, y_train.flatten(), sample_weight=weights)\n",
        "\n",
        "xt0_test = np.concatenate((x_test, np.zeros_like(t_test)), axis = 1)\n",
        "xt1_test = np.concatenate((x_test, np.ones_like(t_test)), axis = 1)\n",
        "y_t0 = rf_ipsw.predict(xt0_test)\n",
        "y_t1 = rf_ipsw.predict(xt1_test)\n",
        "avg_pred_eff_tl = y_t1 - y_t0\n",
        "\n",
        "score_tl = abs_att(avg_pred_eff_tl, y_test, ttestflat, e_test)\n",
        "print(\"Testing Error: \", score_tl)\n",
        "\n"
      ],
      "metadata": {
        "colab": {
          "base_uri": "https://localhost:8080/"
        },
        "id": "8sEmN0jtfn5z",
        "outputId": "8e4370e1-a17a-4f70-971f-f7253a2dcc92"
      },
      "execution_count": 197,
      "outputs": [
        {
          "output_type": "stream",
          "name": "stdout",
          "text": [
            "0.0038115038115038025\n",
            "0.056471651231082\n",
            "0.06118631011334874\n",
            "0.03513948497854072\n",
            "0.06048819742489267\n",
            "0.014306151645207446\n",
            "0.07762109135499691\n",
            "0.0695002076699432\n",
            "0.020624701955174032\n",
            "0.12598643223037526\n",
            "CrossVal Score: 0.052513573241506475\n",
            "Testing Error:  0.019661016949152496\n"
          ]
        }
      ]
    },
    {
      "cell_type": "markdown",
      "source": [
        "**DRLearner**\n"
      ],
      "metadata": {
        "id": "EpB523aQ-Z5k"
      }
    },
    {
      "cell_type": "code",
      "source": [
        "scores_dr = []\n",
        "\n",
        "estimators = 1000\n",
        "subsamp = 1\n",
        "state = 10\n",
        "split = 15\n",
        "leaf = 15\n",
        "depth = 3\n",
        "\n",
        "\n",
        "\n",
        "for train_index, test_index in skf.split(xt_train, t_train):\n",
        "  #xl = XLearner(models=GradientBoostingClassifier(n_estimators=estimators, subsample=0.5, min_samples_split=split, min_samples_leaf=leaf, random_state=state), propensity_model=GradientBoostingClassifier(n_estimators=estimators, subsample=subsamp, min_samples_split=split, min_samples_leaf=leaf))\n",
        "  #dr = DRLearner(model_regression=GradientBoostingRegressor(n_estimators=estimators, min_samples_leaf = leaf, min_samples_split=split,  random_state=state), model_propensity=RandomForestClassifier(n_estimators=estimators, min_samples_leaf = leaf, min_samples_split=split,  random_state=state), model_final=LassoCV(cv=5), random_state=state)\n",
        "  dr = DRLearner(model_regression=XGBRegressor(), model_propensity=XGBClassifier(), model_final=LassoCV(cv=5), random_state=state)\n",
        "  #xl = XLearner(models=XGBClassifier(max_depth = 6, random_state = 10), propensity_model=XGBClassifier(max_depth = 6, random_state = 10))\n",
        "  xtrain, xtest = x_train[train_index], x_train[test_index]\n",
        "  ttrain, ttest = t_train[train_index], t_train[test_index]\n",
        "  ytrain, ytest = ytrainflat[train_index], ytrainflat[test_index]\n",
        "  etrain, etest = e_train[train_index], e_train[test_index]\n",
        "\n",
        "  dr.fit(ytrain, ttrain.flatten(), X=xtrain)\n",
        "  dr_te_test = dr.effect(xtest)\n",
        "  score =  abs_att(dr_te_test, ytest, ttest.flatten(), etest)\n",
        "  print(score)\n",
        "  scores_dr.append(score)\n",
        "\n",
        "\n",
        "print(\"CrossVal Score: \", np.mean(scores_dr))\n",
        "#xl = XLearner(models=XGBClassifier(max_depth = 6), propensity_model=XGBClassifier(max_depth=6))\n",
        "#xl = XLearner(models=GradientBoostingClassifier(n_estimators=estimators, subsample=0.5, min_samples_split=split, min_samples_leaf=leaf, random_state=state), propensity_model=GradientBoostingClassifier(n_estimators=estimators, subsample=subsamp, min_samples_split=split, min_samples_leaf=leaf))\n",
        "#dr = DRLearner(model_regression=GradientBoostingRegressor(n_estimators=estimators, min_samples_leaf = leaf, min_samples_split=split,  random_state=state), model_propensity=RandomForestClassifier(n_estimators=estimators, min_samples_leaf = leaf, min_samples_split=split,  random_state=state), model_final=LassoCV(cv=5), random_state=state)\n",
        "dr = DRLearner(model_regression=XGBRegressor(), model_propensity=XGBClassifier(), model_final=LassoCV(cv=5), random_state=state)\n",
        "dr.fit(ytrainflat, t_train.flatten(), X=x_train)\n",
        "\n",
        "dr_te_test = dr.effect(x_test)\n",
        "score_doublyrobust = abs_att(dr_te_test, y_test, ttestflat, e_test)\n",
        "print(\"Testing Err: \", score_doublyrobust)"
      ],
      "metadata": {
        "colab": {
          "base_uri": "https://localhost:8080/"
        },
        "id": "Q_lv1BI2-elr",
        "outputId": "7ab91a53-ef3e-4bfc-b292-73dd88bd3b4b"
      },
      "execution_count": null,
      "outputs": [
        {
          "output_type": "stream",
          "name": "stdout",
          "text": [
            "[10:12:47] WARNING: /workspace/src/objective/regression_obj.cu:152: reg:linear is now deprecated in favor of reg:squarederror.\n",
            "[10:12:48] WARNING: /workspace/src/objective/regression_obj.cu:152: reg:linear is now deprecated in favor of reg:squarederror.\n",
            "0.06293982784700526\n",
            "[10:12:49] WARNING: /workspace/src/objective/regression_obj.cu:152: reg:linear is now deprecated in favor of reg:squarederror.\n",
            "[10:12:50] WARNING: /workspace/src/objective/regression_obj.cu:152: reg:linear is now deprecated in favor of reg:squarederror.\n",
            "0.01836693495379824\n",
            "[10:12:52] WARNING: /workspace/src/objective/regression_obj.cu:152: reg:linear is now deprecated in favor of reg:squarederror.\n",
            "[10:12:53] WARNING: /workspace/src/objective/regression_obj.cu:152: reg:linear is now deprecated in favor of reg:squarederror.\n",
            "0.030750958935752463\n",
            "[10:12:55] WARNING: /workspace/src/objective/regression_obj.cu:152: reg:linear is now deprecated in favor of reg:squarederror.\n",
            "[10:12:55] WARNING: /workspace/src/objective/regression_obj.cu:152: reg:linear is now deprecated in favor of reg:squarederror.\n",
            "0.03632545376707542\n",
            "[10:12:57] WARNING: /workspace/src/objective/regression_obj.cu:152: reg:linear is now deprecated in favor of reg:squarederror.\n",
            "[10:12:57] WARNING: /workspace/src/objective/regression_obj.cu:152: reg:linear is now deprecated in favor of reg:squarederror.\n",
            "0.05573165680156939\n",
            "[10:12:58] WARNING: /workspace/src/objective/regression_obj.cu:152: reg:linear is now deprecated in favor of reg:squarederror.\n",
            "[10:12:59] WARNING: /workspace/src/objective/regression_obj.cu:152: reg:linear is now deprecated in favor of reg:squarederror.\n",
            "0.04521299171587462\n",
            "[10:12:59] WARNING: /workspace/src/objective/regression_obj.cu:152: reg:linear is now deprecated in favor of reg:squarederror.\n",
            "[10:13:00] WARNING: /workspace/src/objective/regression_obj.cu:152: reg:linear is now deprecated in favor of reg:squarederror.\n",
            "0.06805666692268611\n",
            "[10:13:00] WARNING: /workspace/src/objective/regression_obj.cu:152: reg:linear is now deprecated in favor of reg:squarederror.\n",
            "[10:13:00] WARNING: /workspace/src/objective/regression_obj.cu:152: reg:linear is now deprecated in favor of reg:squarederror.\n",
            "0.13227467318204494\n",
            "[10:13:01] WARNING: /workspace/src/objective/regression_obj.cu:152: reg:linear is now deprecated in favor of reg:squarederror.\n",
            "[10:13:01] WARNING: /workspace/src/objective/regression_obj.cu:152: reg:linear is now deprecated in favor of reg:squarederror.\n",
            "0.036882804928319975\n",
            "[10:13:02] WARNING: /workspace/src/objective/regression_obj.cu:152: reg:linear is now deprecated in favor of reg:squarederror.\n",
            "[10:13:02] WARNING: /workspace/src/objective/regression_obj.cu:152: reg:linear is now deprecated in favor of reg:squarederror.\n",
            "0.05486872635815109\n",
            "CrossVal Score:  0.05414106954122775\n",
            "[10:13:03] WARNING: /workspace/src/objective/regression_obj.cu:152: reg:linear is now deprecated in favor of reg:squarederror.\n"
          ]
        }
      ]
    },
    {
      "cell_type": "code",
      "source": [
        "# PEHE\n",
        "# Use our 'pehe' function, true ITEs and predicted ITEs to get the measurements.\n",
        "sl_polrisk_test = policy_risk(avg_pred_eff_sl, y_test, ttestflat, e_test)\n",
        "tl_polrisk_test = policy_risk(avg_pred_eff_tl, y_test, ttestflat, e_test)\n",
        "dr_polrisk_test = policy_risk(dr_te_test, y_test, ttestflat, e_test)"
      ],
      "metadata": {
        "id": "79A-06XS5fe7"
      },
      "execution_count": 199,
      "outputs": []
    },
    {
      "cell_type": "code",
      "source": [
        "results = []\n",
        "results.append(['S-Learner', score_sl, np.mean(scores_sl),  sl_polrisk_test])\n",
        "results.append(['T-Learner', score_tl, np.mean(scores_tl), tl_polrisk_test])\n",
        "results.append(['DR-Learner', score_doublyrobust, np.mean(scores_dr), dr_polrisk_test])\n",
        "\n",
        "cols = ['Method', 'ATT test', 'ATT CVal', 'PEHE test']\n",
        "\n",
        "res = pd.DataFrame(results, columns=cols)\n",
        "res"
      ],
      "metadata": {
        "colab": {
          "base_uri": "https://localhost:8080/",
          "height": 143
        },
        "id": "xp9dDv1X7d1V",
        "outputId": "ef36c1d4-39ae-4d73-e7e1-adc78ec6b738"
      },
      "execution_count": 200,
      "outputs": [
        {
          "output_type": "execute_result",
          "data": {
            "text/plain": [
              "       Method  ATT test  ATT CVal  PEHE test\n",
              "0   S-Learner  0.036610  0.055781   0.256219\n",
              "1   T-Learner  0.019661  0.052514   0.236501\n",
              "2  DR-Learner  0.028955  0.045292   0.164339"
            ],
            "text/html": [
              "\n",
              "  <div id=\"df-c7accf8e-0e36-4d1c-a16e-9b1a7f2a13c1\">\n",
              "    <div class=\"colab-df-container\">\n",
              "      <div>\n",
              "<style scoped>\n",
              "    .dataframe tbody tr th:only-of-type {\n",
              "        vertical-align: middle;\n",
              "    }\n",
              "\n",
              "    .dataframe tbody tr th {\n",
              "        vertical-align: top;\n",
              "    }\n",
              "\n",
              "    .dataframe thead th {\n",
              "        text-align: right;\n",
              "    }\n",
              "</style>\n",
              "<table border=\"1\" class=\"dataframe\">\n",
              "  <thead>\n",
              "    <tr style=\"text-align: right;\">\n",
              "      <th></th>\n",
              "      <th>Method</th>\n",
              "      <th>ATT test</th>\n",
              "      <th>ATT CVal</th>\n",
              "      <th>PEHE test</th>\n",
              "    </tr>\n",
              "  </thead>\n",
              "  <tbody>\n",
              "    <tr>\n",
              "      <th>0</th>\n",
              "      <td>S-Learner</td>\n",
              "      <td>0.036610</td>\n",
              "      <td>0.055781</td>\n",
              "      <td>0.256219</td>\n",
              "    </tr>\n",
              "    <tr>\n",
              "      <th>1</th>\n",
              "      <td>T-Learner</td>\n",
              "      <td>0.019661</td>\n",
              "      <td>0.052514</td>\n",
              "      <td>0.236501</td>\n",
              "    </tr>\n",
              "    <tr>\n",
              "      <th>2</th>\n",
              "      <td>DR-Learner</td>\n",
              "      <td>0.028955</td>\n",
              "      <td>0.045292</td>\n",
              "      <td>0.164339</td>\n",
              "    </tr>\n",
              "  </tbody>\n",
              "</table>\n",
              "</div>\n",
              "      <button class=\"colab-df-convert\" onclick=\"convertToInteractive('df-c7accf8e-0e36-4d1c-a16e-9b1a7f2a13c1')\"\n",
              "              title=\"Convert this dataframe to an interactive table.\"\n",
              "              style=\"display:none;\">\n",
              "        \n",
              "  <svg xmlns=\"http://www.w3.org/2000/svg\" height=\"24px\"viewBox=\"0 0 24 24\"\n",
              "       width=\"24px\">\n",
              "    <path d=\"M0 0h24v24H0V0z\" fill=\"none\"/>\n",
              "    <path d=\"M18.56 5.44l.94 2.06.94-2.06 2.06-.94-2.06-.94-.94-2.06-.94 2.06-2.06.94zm-11 1L8.5 8.5l.94-2.06 2.06-.94-2.06-.94L8.5 2.5l-.94 2.06-2.06.94zm10 10l.94 2.06.94-2.06 2.06-.94-2.06-.94-.94-2.06-.94 2.06-2.06.94z\"/><path d=\"M17.41 7.96l-1.37-1.37c-.4-.4-.92-.59-1.43-.59-.52 0-1.04.2-1.43.59L10.3 9.45l-7.72 7.72c-.78.78-.78 2.05 0 2.83L4 21.41c.39.39.9.59 1.41.59.51 0 1.02-.2 1.41-.59l7.78-7.78 2.81-2.81c.8-.78.8-2.07 0-2.86zM5.41 20L4 18.59l7.72-7.72 1.47 1.35L5.41 20z\"/>\n",
              "  </svg>\n",
              "      </button>\n",
              "      \n",
              "  <style>\n",
              "    .colab-df-container {\n",
              "      display:flex;\n",
              "      flex-wrap:wrap;\n",
              "      gap: 12px;\n",
              "    }\n",
              "\n",
              "    .colab-df-convert {\n",
              "      background-color: #E8F0FE;\n",
              "      border: none;\n",
              "      border-radius: 50%;\n",
              "      cursor: pointer;\n",
              "      display: none;\n",
              "      fill: #1967D2;\n",
              "      height: 32px;\n",
              "      padding: 0 0 0 0;\n",
              "      width: 32px;\n",
              "    }\n",
              "\n",
              "    .colab-df-convert:hover {\n",
              "      background-color: #E2EBFA;\n",
              "      box-shadow: 0px 1px 2px rgba(60, 64, 67, 0.3), 0px 1px 3px 1px rgba(60, 64, 67, 0.15);\n",
              "      fill: #174EA6;\n",
              "    }\n",
              "\n",
              "    [theme=dark] .colab-df-convert {\n",
              "      background-color: #3B4455;\n",
              "      fill: #D2E3FC;\n",
              "    }\n",
              "\n",
              "    [theme=dark] .colab-df-convert:hover {\n",
              "      background-color: #434B5C;\n",
              "      box-shadow: 0px 1px 3px 1px rgba(0, 0, 0, 0.15);\n",
              "      filter: drop-shadow(0px 1px 2px rgba(0, 0, 0, 0.3));\n",
              "      fill: #FFFFFF;\n",
              "    }\n",
              "  </style>\n",
              "\n",
              "      <script>\n",
              "        const buttonEl =\n",
              "          document.querySelector('#df-c7accf8e-0e36-4d1c-a16e-9b1a7f2a13c1 button.colab-df-convert');\n",
              "        buttonEl.style.display =\n",
              "          google.colab.kernel.accessAllowed ? 'block' : 'none';\n",
              "\n",
              "        async function convertToInteractive(key) {\n",
              "          const element = document.querySelector('#df-c7accf8e-0e36-4d1c-a16e-9b1a7f2a13c1');\n",
              "          const dataTable =\n",
              "            await google.colab.kernel.invokeFunction('convertToInteractive',\n",
              "                                                     [key], {});\n",
              "          if (!dataTable) return;\n",
              "\n",
              "          const docLinkHtml = 'Like what you see? Visit the ' +\n",
              "            '<a target=\"_blank\" href=https://colab.research.google.com/notebooks/data_table.ipynb>data table notebook</a>'\n",
              "            + ' to learn more about interactive tables.';\n",
              "          element.innerHTML = '';\n",
              "          dataTable['output_type'] = 'display_data';\n",
              "          await google.colab.output.renderOutput(dataTable, element);\n",
              "          const docLink = document.createElement('div');\n",
              "          docLink.innerHTML = docLinkHtml;\n",
              "          element.appendChild(docLink);\n",
              "        }\n",
              "      </script>\n",
              "    </div>\n",
              "  </div>\n",
              "  "
            ]
          },
          "metadata": {},
          "execution_count": 200
        }
      ]
    },
    {
      "cell_type": "code",
      "source": [
        "def mean_ci(data, ci=0.95):\n",
        "  l_mean = np.mean(data)\n",
        "  lower, upper = st.t.interval(ci, len(data)-1, loc=l_mean, scale=st.sem(data))\n",
        "  return l_mean, lower, upper"
      ],
      "metadata": {
        "id": "-AOWh0DqwQCe"
      },
      "execution_count": 201,
      "outputs": []
    },
    {
      "cell_type": "code",
      "source": [
        "sl_att_bounds = mean_ci(avg_pred_eff_sl[(ttestflat + e_test) > 1])\n",
        "tl_att_bounds = mean_ci(avg_pred_eff_tl[(ttestflat + e_test) > 1])\n",
        "dr_att_bounds = mean_ci(dr_te_test[(ttestflat + e_test) > 1])\n",
        "\n",
        "results = []\n",
        "results.append(['SL', sl_att_bounds[0], sl_att_bounds[1], sl_att_bounds[2]])\n",
        "results.append(['TL', tl_att_bounds[0], tl_att_bounds[1], tl_att_bounds[2]])\n",
        "results.append(['DR', dr_att_bounds[0], dr_att_bounds[1], dr_att_bounds[2]])\n",
        "\n",
        "cols = ['Method', 'ATT mean', 'CI lower', 'CI upper']\n",
        "\n",
        "df = pd.DataFrame(results, columns=cols)\n",
        "df"
      ],
      "metadata": {
        "colab": {
          "base_uri": "https://localhost:8080/",
          "height": 143
        },
        "id": "Ic8_htilwRDb",
        "outputId": "2bbf658a-8bf1-4d9f-9d76-ab14b4c7cefe"
      },
      "execution_count": 202,
      "outputs": [
        {
          "output_type": "execute_result",
          "data": {
            "text/plain": [
              "  Method  ATT mean  CI lower  CI upper\n",
              "0     SL  0.050847 -0.006894  0.108589\n",
              "1     TL  0.067797  0.001720  0.133873\n",
              "2     DR  0.058503  0.043088  0.073917"
            ],
            "text/html": [
              "\n",
              "  <div id=\"df-bd8307af-a987-4a7d-8aab-97d72f443713\">\n",
              "    <div class=\"colab-df-container\">\n",
              "      <div>\n",
              "<style scoped>\n",
              "    .dataframe tbody tr th:only-of-type {\n",
              "        vertical-align: middle;\n",
              "    }\n",
              "\n",
              "    .dataframe tbody tr th {\n",
              "        vertical-align: top;\n",
              "    }\n",
              "\n",
              "    .dataframe thead th {\n",
              "        text-align: right;\n",
              "    }\n",
              "</style>\n",
              "<table border=\"1\" class=\"dataframe\">\n",
              "  <thead>\n",
              "    <tr style=\"text-align: right;\">\n",
              "      <th></th>\n",
              "      <th>Method</th>\n",
              "      <th>ATT mean</th>\n",
              "      <th>CI lower</th>\n",
              "      <th>CI upper</th>\n",
              "    </tr>\n",
              "  </thead>\n",
              "  <tbody>\n",
              "    <tr>\n",
              "      <th>0</th>\n",
              "      <td>SL</td>\n",
              "      <td>0.050847</td>\n",
              "      <td>-0.006894</td>\n",
              "      <td>0.108589</td>\n",
              "    </tr>\n",
              "    <tr>\n",
              "      <th>1</th>\n",
              "      <td>TL</td>\n",
              "      <td>0.067797</td>\n",
              "      <td>0.001720</td>\n",
              "      <td>0.133873</td>\n",
              "    </tr>\n",
              "    <tr>\n",
              "      <th>2</th>\n",
              "      <td>DR</td>\n",
              "      <td>0.058503</td>\n",
              "      <td>0.043088</td>\n",
              "      <td>0.073917</td>\n",
              "    </tr>\n",
              "  </tbody>\n",
              "</table>\n",
              "</div>\n",
              "      <button class=\"colab-df-convert\" onclick=\"convertToInteractive('df-bd8307af-a987-4a7d-8aab-97d72f443713')\"\n",
              "              title=\"Convert this dataframe to an interactive table.\"\n",
              "              style=\"display:none;\">\n",
              "        \n",
              "  <svg xmlns=\"http://www.w3.org/2000/svg\" height=\"24px\"viewBox=\"0 0 24 24\"\n",
              "       width=\"24px\">\n",
              "    <path d=\"M0 0h24v24H0V0z\" fill=\"none\"/>\n",
              "    <path d=\"M18.56 5.44l.94 2.06.94-2.06 2.06-.94-2.06-.94-.94-2.06-.94 2.06-2.06.94zm-11 1L8.5 8.5l.94-2.06 2.06-.94-2.06-.94L8.5 2.5l-.94 2.06-2.06.94zm10 10l.94 2.06.94-2.06 2.06-.94-2.06-.94-.94-2.06-.94 2.06-2.06.94z\"/><path d=\"M17.41 7.96l-1.37-1.37c-.4-.4-.92-.59-1.43-.59-.52 0-1.04.2-1.43.59L10.3 9.45l-7.72 7.72c-.78.78-.78 2.05 0 2.83L4 21.41c.39.39.9.59 1.41.59.51 0 1.02-.2 1.41-.59l7.78-7.78 2.81-2.81c.8-.78.8-2.07 0-2.86zM5.41 20L4 18.59l7.72-7.72 1.47 1.35L5.41 20z\"/>\n",
              "  </svg>\n",
              "      </button>\n",
              "      \n",
              "  <style>\n",
              "    .colab-df-container {\n",
              "      display:flex;\n",
              "      flex-wrap:wrap;\n",
              "      gap: 12px;\n",
              "    }\n",
              "\n",
              "    .colab-df-convert {\n",
              "      background-color: #E8F0FE;\n",
              "      border: none;\n",
              "      border-radius: 50%;\n",
              "      cursor: pointer;\n",
              "      display: none;\n",
              "      fill: #1967D2;\n",
              "      height: 32px;\n",
              "      padding: 0 0 0 0;\n",
              "      width: 32px;\n",
              "    }\n",
              "\n",
              "    .colab-df-convert:hover {\n",
              "      background-color: #E2EBFA;\n",
              "      box-shadow: 0px 1px 2px rgba(60, 64, 67, 0.3), 0px 1px 3px 1px rgba(60, 64, 67, 0.15);\n",
              "      fill: #174EA6;\n",
              "    }\n",
              "\n",
              "    [theme=dark] .colab-df-convert {\n",
              "      background-color: #3B4455;\n",
              "      fill: #D2E3FC;\n",
              "    }\n",
              "\n",
              "    [theme=dark] .colab-df-convert:hover {\n",
              "      background-color: #434B5C;\n",
              "      box-shadow: 0px 1px 3px 1px rgba(0, 0, 0, 0.15);\n",
              "      filter: drop-shadow(0px 1px 2px rgba(0, 0, 0, 0.3));\n",
              "      fill: #FFFFFF;\n",
              "    }\n",
              "  </style>\n",
              "\n",
              "      <script>\n",
              "        const buttonEl =\n",
              "          document.querySelector('#df-bd8307af-a987-4a7d-8aab-97d72f443713 button.colab-df-convert');\n",
              "        buttonEl.style.display =\n",
              "          google.colab.kernel.accessAllowed ? 'block' : 'none';\n",
              "\n",
              "        async function convertToInteractive(key) {\n",
              "          const element = document.querySelector('#df-bd8307af-a987-4a7d-8aab-97d72f443713');\n",
              "          const dataTable =\n",
              "            await google.colab.kernel.invokeFunction('convertToInteractive',\n",
              "                                                     [key], {});\n",
              "          if (!dataTable) return;\n",
              "\n",
              "          const docLinkHtml = 'Like what you see? Visit the ' +\n",
              "            '<a target=\"_blank\" href=https://colab.research.google.com/notebooks/data_table.ipynb>data table notebook</a>'\n",
              "            + ' to learn more about interactive tables.';\n",
              "          element.innerHTML = '';\n",
              "          dataTable['output_type'] = 'display_data';\n",
              "          await google.colab.output.renderOutput(dataTable, element);\n",
              "          const docLink = document.createElement('div');\n",
              "          docLink.innerHTML = docLinkHtml;\n",
              "          element.appendChild(docLink);\n",
              "        }\n",
              "      </script>\n",
              "    </div>\n",
              "  </div>\n",
              "  "
            ]
          },
          "metadata": {},
          "execution_count": 202
        }
      ]
    },
    {
      "cell_type": "code",
      "source": [
        "index = df_train.columns.get_loc('x6')\n",
        "\n",
        "plt.figure(figsize=(12, 10))\n",
        "m_size = 15\n",
        "plt.scatter((x_test[:,index])[(ttestflat + e_test) > 1], avg_pred_eff_sl[(ttestflat + e_test) > 1], label=\"SL\", s=m_size)\n",
        "plt.scatter((x_test[:,index])[(ttestflat + e_test) > 1], avg_pred_eff_tl[(ttestflat + e_test) > 1], label=\"TL\", s=m_size)\n",
        "plt.scatter((x_test[:,index])[(ttestflat + e_test) > 1], dr_te_test[(ttestflat + e_test) > 1], label=\"DR\", s=m_size)\n",
        "\n",
        "plt.xlabel('X-6')\n",
        "plt.ylabel('Treatment Effect')\n",
        "plt.legend()\n",
        "#plt.savefig('x6_treatmenteffect_JOBS_Scatter.png')\n",
        "#files.download(\"x6_treatmenteffect_JOBS_Scatter.png\") \n",
        "\n",
        "plt.show()"
      ],
      "metadata": {
        "colab": {
          "base_uri": "https://localhost:8080/",
          "height": 606
        },
        "id": "7IDLpJekwsA9",
        "outputId": "f8f91e0f-4d76-41f9-88d4-18219642530f"
      },
      "execution_count": 203,
      "outputs": [
        {
          "output_type": "display_data",
          "data": {
            "text/plain": [
              "<Figure size 864x720 with 1 Axes>"
            ],
            "image/png": "[encoded data removed]"
          },
          "metadata": {
            "needs_background": "light"
          }
        }
      ]
    },
    {
      "cell_type": "code",
      "source": [
        "index = df_train.columns.get_loc('x6')\n",
        "\n",
        "plt.figure(figsize=(12, 10))\n",
        "m_size = 5\n",
        "plt.hist2d((x_test[:,index])[(ttestflat + e_test) > 1], dr_te_test[(ttestflat + e_test) > 1], linewidth=0.5)\n",
        "\n",
        "\n",
        "plt.xlabel('X-6')\n",
        "plt.ylabel('Treatment Effect')\n",
        "plt.legend()\n",
        "plt.savefig('x6_treatmenteffect_JOBS_heatmap.png')\n",
        "files.download(\"x6_treatmenteffect_JOBS_heatmap.png\") \n",
        "\n",
        "plt.show()"
      ],
      "metadata": {
        "colab": {
          "base_uri": "https://localhost:8080/",
          "height": 623
        },
        "id": "CUV8Wbol4Xus",
        "outputId": "80ec0dbd-f9b6-4298-d17e-b51d85ab4827"
      },
      "execution_count": 204,
      "outputs": [
        {
          "output_type": "stream",
          "name": "stderr",
          "text": [
            "No handles with labels found to put in legend.\n"
          ]
        },
        {
          "output_type": "display_data",
          "data": {
            "text/plain": [
              "<IPython.core.display.Javascript object>"
            ],
            "application/javascript": [
              "\n",
              "    async function download(id, filename, size) {\n",
              "      if (!google.colab.kernel.accessAllowed) {\n",
              "        return;\n",
              "      }\n",
              "      const div = document.createElement('div');\n",
              "      const label = document.createElement('label');\n",
              "      label.textContent = `Downloading \"${filename}\": `;\n",
              "      div.appendChild(label);\n",
              "      const progress = document.createElement('progress');\n",
              "      progress.max = size;\n",
              "      div.appendChild(progress);\n",
              "      document.body.appendChild(div);\n",
              "\n",
              "      const buffers = [];\n",
              "      let downloaded = 0;\n",
              "\n",
              "      const channel = await google.colab.kernel.comms.open(id);\n",
              "      // Send a message to notify the kernel that we're ready.\n",
              "      channel.send({})\n",
              "\n",
              "      for await (const message of channel.messages) {\n",
              "        // Send a message to notify the kernel that we're ready.\n",
              "        channel.send({})\n",
              "        if (message.buffers) {\n",
              "          for (const buffer of message.buffers) {\n",
              "            buffers.push(buffer);\n",
              "            downloaded += buffer.byteLength;\n",
              "            progress.value = downloaded;\n",
              "          }\n",
              "        }\n",
              "      }\n",
              "      const blob = new Blob(buffers, {type: 'application/binary'});\n",
              "      const a = document.createElement('a');\n",
              "      a.href = window.URL.createObjectURL(blob);\n",
              "      a.download = filename;\n",
              "      div.appendChild(a);\n",
              "      a.click();\n",
              "      div.remove();\n",
              "    }\n",
              "  "
            ]
          },
          "metadata": {}
        },
        {
          "output_type": "display_data",
          "data": {
            "text/plain": [
              "<IPython.core.display.Javascript object>"
            ],
            "application/javascript": [
              "download(\"download_1d27c1f7-bcf5-4fbe-8cde-f9c3e541da52\", \"x6_treatmenteffect_JOBS_heatmap.png\", 12362)"
            ]
          },
          "metadata": {}
        },
        {
          "output_type": "display_data",
          "data": {
            "text/plain": [
              "<Figure size 864x720 with 1 Axes>"
            ],
            "image/png": "[encoded data removed]"
          },
          "metadata": {
            "needs_background": "light"
          }
        }
      ]
    },
    {
      "cell_type": "code",
      "source": [
        "print(len(dr_te_test[(ttestflat + e_test) > 1]))\n",
        "print((x_test[:,index])[(ttestflat + e_test) > 1])"
      ],
      "metadata": {
        "colab": {
          "base_uri": "https://localhost:8080/"
        },
        "id": "o20x9V9_xWu_",
        "outputId": "778d41af-c3f7-4d51-f1a6-47057b5f9e73"
      },
      "execution_count": 205,
      "outputs": [
        {
          "output_type": "stream",
          "name": "stdout",
          "text": [
            "59\n",
            "[ 0.90111018  0.90111018  0.90111018  0.90111018  0.90111018  0.90111018\n",
            " -1.11327681 -1.11327681 -1.11327681  0.90111018  0.90111018  0.90111018\n",
            "  0.90111018  0.90111018  0.90111018  0.90111018  0.90111018 -1.11327681\n",
            "  0.90111018  0.90111018  0.90111018 -1.11327681  0.90111018  0.90111018\n",
            " -1.11327681  0.90111018  0.90111018  0.90111018  0.90111018 -1.11327681\n",
            "  0.90111018  0.90111018  0.90111018 -1.11327681 -1.11327681 -1.11327681\n",
            "  0.90111018  0.90111018  0.90111018  0.90111018  0.90111018  0.90111018\n",
            "  0.90111018  0.90111018  0.90111018  0.90111018  0.90111018  0.90111018\n",
            "  0.90111018  0.90111018  0.90111018  0.90111018 -1.11327681  0.90111018\n",
            " -1.11327681  0.90111018 -1.11327681 -1.11327681  0.90111018]\n"
          ]
        }
      ]
    },
    {
      "cell_type": "code",
      "source": [
        "features.append('t')\n",
        "print(features)"
      ],
      "metadata": {
        "colab": {
          "base_uri": "https://localhost:8080/"
        },
        "id": "h5Lj_4Mlt3mY",
        "outputId": "0c56197f-5886-42eb-b298-51d588ff9ba2"
      },
      "execution_count": 206,
      "outputs": [
        {
          "output_type": "stream",
          "name": "stdout",
          "text": [
            "['x1', 'x2', 'x3', 'x4', 'x5', 'x6', 'x7', 'x8', 'x9', 'x10', 'x11', 'x12', 'x13', 'x16', 't']\n"
          ]
        }
      ]
    },
    {
      "cell_type": "code",
      "source": [
        "\n",
        "feat_importances = pd.Series(gbr.feature_importances_, index=features)\n",
        "feat_importances.nlargest(15).plot(kind='barh')"
      ],
      "metadata": {
        "colab": {
          "base_uri": "https://localhost:8080/",
          "height": 282
        },
        "id": "yGOztI7tC1Kd",
        "outputId": "103f50f2-a899-45e4-83ab-9f5e08744074"
      },
      "execution_count": 207,
      "outputs": [
        {
          "output_type": "execute_result",
          "data": {
            "text/plain": [
              "<matplotlib.axes._subplots.AxesSubplot at 0x7fc23a38ff90>"
            ]
          },
          "metadata": {},
          "execution_count": 207
        },
        {
          "output_type": "display_data",
          "data": {
            "text/plain": [
              "<Figure size 432x288 with 1 Axes>"
            ],
            "image/png": "[encoded data removed]"
          },
          "metadata": {
            "needs_background": "light"
          }
        }
      ]
    },
    {
      "cell_type": "code",
      "source": [
        "print(len(avg_pred_eff_sl))\n",
        "print(x_test.shape)\n",
        "index = df_train.columns.get_loc('x8')"
      ],
      "metadata": {
        "colab": {
          "base_uri": "https://localhost:8080/"
        },
        "id": "e2DtIctxFchP",
        "outputId": "f6293841-db85-4c1d-898e-b92839f2b942"
      },
      "execution_count": 208,
      "outputs": [
        {
          "output_type": "stream",
          "name": "stdout",
          "text": [
            "643\n",
            "(643, 14)\n"
          ]
        }
      ]
    },
    {
      "cell_type": "code",
      "source": [
        "import seaborn as sns\n",
        "features2 = ['x8', 'x13', 'x2', 'x12', 'x11']\n",
        "sns.heatmap(dfraw[features2].corr())\n",
        "sns.pairplot(dfraw[features2])"
      ],
      "metadata": {
        "colab": {
          "base_uri": "https://localhost:8080/",
          "height": 1000
        },
        "id": "HfgQQLm3sq8T",
        "outputId": "ca29d26d-2f76-48db-fce3-e7162428b2d3"
      },
      "execution_count": 209,
      "outputs": [
        {
          "output_type": "execute_result",
          "data": {
            "text/plain": [
              "<seaborn.axisgrid.PairGrid at 0x7fc238d57910>"
            ]
          },
          "metadata": {},
          "execution_count": 209
        },
        {
          "output_type": "display_data",
          "data": {
            "text/plain": [
              "<Figure size 432x288 with 2 Axes>"
            ],
            "image/png": "[encoded data removed]"
          },
          "metadata": {
            "needs_background": "light"
          }
        },
        {
          "output_type": "display_data",
          "data": {
            "text/plain": [
              "<Figure size 900x900 with 30 Axes>"
            ],
            "image/png": "[encoded data removed]"
          },
          "metadata": {
            "needs_background": "light"
          }
        }
      ]
    },
    {
      "cell_type": "code",
      "source": [
        "\n",
        "\n"
      ],
      "metadata": {
        "id": "Vx5WnM6fu0wq"
      },
      "execution_count": 209,
      "outputs": []
    }
  ]
}